{
 "cells": [
  {
   "cell_type": "markdown",
   "metadata": {},
   "source": [
    "# Radoslav Nikolov\n",
    "```\n",
    "Additional tasks\n",
    "```\n",
    "\n",
    "## Problem 1. Gas consumption"
   ]
  },
  {
   "cell_type": "code",
   "execution_count": 21,
   "metadata": {
    "collapsed": false
   },
   "outputs": [],
   "source": [
    "% matplotlib inline\n",
    "import numpy as np\n",
    "import pandas as pd\n",
    "from matplotlib import pyplot as plt\n",
    "from scipy import stats\n",
    "from scipy.stats import ttest_ind"
   ]
  },
  {
   "cell_type": "code",
   "execution_count": 2,
   "metadata": {
    "collapsed": false
   },
   "outputs": [
    {
     "data": {
      "text/html": [
       "<div>\n",
       "<table border=\"1\" class=\"dataframe\">\n",
       "  <thead>\n",
       "    <tr style=\"text-align: right;\">\n",
       "      <th></th>\n",
       "      <th>temp_diff</th>\n",
       "      <th>power</th>\n",
       "    </tr>\n",
       "  </thead>\n",
       "  <tbody>\n",
       "    <tr>\n",
       "      <th>0</th>\n",
       "      <td>10.3</td>\n",
       "      <td>69.81</td>\n",
       "    </tr>\n",
       "    <tr>\n",
       "      <th>1</th>\n",
       "      <td>11.4</td>\n",
       "      <td>82.75</td>\n",
       "    </tr>\n",
       "    <tr>\n",
       "      <th>2</th>\n",
       "      <td>11.5</td>\n",
       "      <td>81.75</td>\n",
       "    </tr>\n",
       "    <tr>\n",
       "      <th>3</th>\n",
       "      <td>12.5</td>\n",
       "      <td>80.38</td>\n",
       "    </tr>\n",
       "    <tr>\n",
       "      <th>4</th>\n",
       "      <td>13.1</td>\n",
       "      <td>85.89</td>\n",
       "    </tr>\n",
       "    <tr>\n",
       "      <th>5</th>\n",
       "      <td>13.4</td>\n",
       "      <td>75.32</td>\n",
       "    </tr>\n",
       "    <tr>\n",
       "      <th>6</th>\n",
       "      <td>13.6</td>\n",
       "      <td>69.81</td>\n",
       "    </tr>\n",
       "    <tr>\n",
       "      <th>7</th>\n",
       "      <td>15.0</td>\n",
       "      <td>78.54</td>\n",
       "    </tr>\n",
       "    <tr>\n",
       "      <th>8</th>\n",
       "      <td>15.2</td>\n",
       "      <td>81.29</td>\n",
       "    </tr>\n",
       "    <tr>\n",
       "      <th>9</th>\n",
       "      <td>15.3</td>\n",
       "      <td>99.20</td>\n",
       "    </tr>\n",
       "    <tr>\n",
       "      <th>10</th>\n",
       "      <td>15.6</td>\n",
       "      <td>86.35</td>\n",
       "    </tr>\n",
       "    <tr>\n",
       "      <th>11</th>\n",
       "      <td>16.4</td>\n",
       "      <td>110.23</td>\n",
       "    </tr>\n",
       "    <tr>\n",
       "      <th>12</th>\n",
       "      <td>16.5</td>\n",
       "      <td>106.55</td>\n",
       "    </tr>\n",
       "    <tr>\n",
       "      <th>13</th>\n",
       "      <td>17.0</td>\n",
       "      <td>85.50</td>\n",
       "    </tr>\n",
       "    <tr>\n",
       "      <th>14</th>\n",
       "      <td>17.1</td>\n",
       "      <td>90.02</td>\n",
       "    </tr>\n",
       "  </tbody>\n",
       "</table>\n",
       "</div>"
      ],
      "text/plain": [
       "    temp_diff   power\n",
       "0        10.3   69.81\n",
       "1        11.4   82.75\n",
       "2        11.5   81.75\n",
       "3        12.5   80.38\n",
       "4        13.1   85.89\n",
       "5        13.4   75.32\n",
       "6        13.6   69.81\n",
       "7        15.0   78.54\n",
       "8        15.2   81.29\n",
       "9        15.3   99.20\n",
       "10       15.6   86.35\n",
       "11       16.4  110.23\n",
       "12       16.5  106.55\n",
       "13       17.0   85.50\n",
       "14       17.1   90.02"
      ]
     },
     "execution_count": 2,
     "metadata": {},
     "output_type": "execute_result"
    }
   ],
   "source": [
    "gas_data = pd.read_table(\"temp_gas.csv\")\n",
    "gas_data"
   ]
  },
  {
   "cell_type": "markdown",
   "metadata": {},
   "source": [
    "The data appears to be clean - there are no missing values. We cannot be sure if there are any erroneous values (such as \"human errors\"). We can check for outliers by plotting histograms or boxplots."
   ]
  },
  {
   "cell_type": "code",
   "execution_count": 3,
   "metadata": {
    "collapsed": false
   },
   "outputs": [
    {
     "data": {
      "image/png": "[encoded data removed]",
      "text/plain": [
       "<matplotlib.figure.Figure at 0x2556dc4d160>"
      ]
     },
     "metadata": {},
     "output_type": "display_data"
    }
   ],
   "source": [
    "f,(ax1,ax2) = plt.subplots(2,1, figsize = (5,6))\n",
    "ax1.hist(gas_data[\"temp_diff\"], bins = 5, normed = 1)\n",
    "ax1.set_xlabel(r\"$\\Delta T\\ [^{\\circ} \\mathrm{C}]$\")\n",
    "ax1.set_ylabel(r\"$\\mathrm{Frequency}$\")\n",
    "\n",
    "ax2.hist(gas_data[\"power\"], bins = 5, normed = 1)\n",
    "ax2.set_xlabel(r\"$C\\ [\\mathrm{kWh}]$\")\n",
    "ax2.set_ylabel(r\"$\\mathrm{Frequency}$\")\n",
    "\n",
    "f.tight_layout()\n",
    "plt.show()\n"
   ]
  },
  {
   "cell_type": "markdown",
   "metadata": {},
   "source": [
    "Indeed, there are no outliers.\n",
    "### Correlation\n",
    "To see if there is any correlation between the two variables, we'll plot $C = f(T)$"
   ]
  },
  {
   "cell_type": "code",
   "execution_count": 7,
   "metadata": {
    "collapsed": false
   },
   "outputs": [
    {
     "data": {
      "image/png": "[encoded data removed]",
      "text/plain": [
       "<matplotlib.figure.Figure at 0x2556f7a50b8>"
      ]
     },
     "metadata": {},
     "output_type": "display_data"
    }
   ],
   "source": [
    "plt.scatter(gas_data[\"temp_diff\"], gas_data[\"power\"])\n",
    "plt.xlabel(r\"$\\Delta T\\ [^{\\circ}\\mathrm{C}]$\")\n",
    "plt.ylabel(r\"$C\\ [\\mathrm{kWh}]$\")\n",
    "plt.show()"
   ]
  },
  {
   "cell_type": "code",
   "execution_count": 17,
   "metadata": {
    "collapsed": false
   },
   "outputs": [
    {
     "data": {
      "image/png": "[encoded data removed]",
      "text/plain": [
       "<matplotlib.figure.Figure at 0x2556fa07eb8>"
      ]
     },
     "metadata": {},
     "output_type": "display_data"
    }
   ],
   "source": [
    "plt.scatter(gas_data[\"temp_diff\"], gas_data[\"power\"])\n",
    "plt.xscale(\"log\")\n",
    "plt.yscale(\"log\")\n",
    "plt.xlabel(r\"$\\Delta T\\ [^{\\circ}\\mathrm{C}]$\")\n",
    "plt.ylabel(r\"$C\\ [\\mathrm{kWh}]$\")\n",
    "plt.show()"
   ]
  },
  {
   "cell_type": "markdown",
   "metadata": {},
   "source": [
    "There appears to be an upward trend. To see how strong it is, we will check the Pearson correlation coefficient."
   ]
  },
  {
   "cell_type": "code",
   "execution_count": 20,
   "metadata": {
    "collapsed": false
   },
   "outputs": [
    {
     "name": "stdout",
     "output_type": "stream",
     "text": [
      "Correlation: 0.626803947457\n"
     ]
    }
   ],
   "source": [
    "corr = np.corrcoef(gas_data[\"temp_diff\"], gas_data[\"power\"])[1][0]\n",
    "print(\"Correlation: \" + str(corr))"
   ]
  },
  {
   "cell_type": "markdown",
   "metadata": {},
   "source": [
    "This indicates a positive correlation, that is, the gas consumption tends to increase when the temperature difference increases.\n",
    "\n",
    "We can also add a trendline to the plot."
   ]
  },
  {
   "cell_type": "code",
   "execution_count": 34,
   "metadata": {
    "collapsed": false
   },
   "outputs": [
    {
     "name": "stdout",
     "output_type": "stream",
     "text": [
      "3.41274032684 36.8936562725 0.626803947457 0.0123969045057 1.17661931889\n"
     ]
    },
    {
     "data": {
      "image/png": "[encoded data removed]",
      "text/plain": [
       "<matplotlib.figure.Figure at 0x255710dd5c0>"
      ]
     },
     "metadata": {},
     "output_type": "display_data"
    },
    {
     "name": "stdout",
     "output_type": "stream",
     "text": [
      "Correlation: 0.626803947457\n",
      "Coefficient of determination: 0.392883188547\n"
     ]
    }
   ],
   "source": [
    "slope, intercept, r_value, p_value, std_err = stats.linregress(gas_data[\"temp_diff\"], gas_data[\"power\"])\n",
    "print(slope, intercept, r_value, p_value, std_err)\n",
    "plt.scatter(gas_data[\"temp_diff\"], gas_data[\"power\"], label=None)\n",
    "regr_label = r\"$y = \" + str(round(slope, 2)) + \"x + \" + str(round(intercept,2)) + \"$\"\n",
    "plt.plot(gas_data[\"temp_diff\"], gas_data[\"temp_diff\"] * slope + intercept, color = 'r', linestyle = '--', label = regr_label)\n",
    "plt.xlabel(r\"$\\Delta T\\ [^{\\circ}\\mathrm{C}]$\")\n",
    "plt.ylabel(r\"$C\\ [\\mathrm{kWh}]$\")\n",
    "plt.legend()\n",
    "plt.show()\n",
    "\n",
    "print(\"Correlation: \" + str(corr))\n",
    "print(\"Coefficient of determination: \" + str(r_value**2))\n"
   ]
  },
  {
   "cell_type": "markdown",
   "metadata": {},
   "source": [
    "### This indicates a positive correlation, that is, the gas consumption tends to increase when the temperature difference increases.\n",
    "http://blog.minitab.com/blog/adventures-in-statistics-2/regression-analysis-how-do-i-interpret-r-squared-and-assess-the-goodness-of-fit"
   ]
  },
  {
   "cell_type": "markdown",
   "metadata": {},
   "source": [
    "#### stats.linregress documentation (https://docs.scipy.org/doc/scipy/reference/generated/scipy.stats.linregress.html)\n",
    "\n",
    "Parameters:\t\n",
    "```\n",
    "x, y : array_like\n",
    "Two sets of measurements. Both arrays should have the same length. If only x is given (and y=None), then it must be a two-dimensional array where one dimension has length 2. The two sets of measurements are then found by splitting the array along the length-2 dimension.\n",
    "```\n",
    "\n",
    "Returns:\n",
    "```\n",
    "slope : float\n",
    "slope of the regression line\n",
    "\n",
    "intercept : float\n",
    "intercept of the regression line\n",
    "\n",
    "rvalue : float\n",
    "correlation coefficient\n",
    "\n",
    "pvalue : float\n",
    "two-sided p-value for a hypothesis test whose null hypothesis is that the slope is zero.\n",
    "\n",
    "stderr : float\n",
    "Standard error of the estimated gradient.\n",
    "```\n"
   ]
  },
  {
   "cell_type": "markdown",
   "metadata": {},
   "source": [
    "## Problem 2. Cloud Seeding"
   ]
  }
 ],
 "metadata": {
  "anaconda-cloud": {},
  "kernelspec": {
   "display_name": "Python [conda root]",
   "language": "python",
   "name": "conda-root-py"
  },
  "language_info": {
   "codemirror_mode": {
    "name": "ipython",
    "version": 3
   },
   "file_extension": ".py",
   "mimetype": "text/x-python",
   "name": "python",
   "nbconvert_exporter": "python",
   "pygments_lexer": "ipython3",
   "version": "3.5.2"
  }
 },
 "nbformat": 4,
 "nbformat_minor": 1
}
