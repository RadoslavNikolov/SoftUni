{
 "cells": [
  {
   "cell_type": "markdown",
   "metadata": {},
   "source": [
    "# Radoslav Nikolov\n",
    "```\n",
    "Additional tasks\n",
    "```\n",
    "\n",
    "## Problem 1. Gas consumption"
   ]
  },
  {
   "cell_type": "code",
   "execution_count": 4,
   "metadata": {
    "collapsed": false
   },
   "outputs": [],
   "source": [
    "% matplotlib inline\n",
    "import numpy as np\n",
    "import pandas as pd\n",
    "from matplotlib import pyplot as plt\n",
    "from scipy import stats\n",
    "from scipy.stats import ttest_ind"
   ]
  },
  {
   "cell_type": "code",
   "execution_count": 5,
   "metadata": {
    "collapsed": false
   },
   "outputs": [
    {
     "data": {
      "text/html": [
       "<div>\n",
       "<table border=\"1\" class=\"dataframe\">\n",
       "  <thead>\n",
       "    <tr style=\"text-align: right;\">\n",
       "      <th></th>\n",
       "      <th>temp_diff</th>\n",
       "      <th>power</th>\n",
       "    </tr>\n",
       "  </thead>\n",
       "  <tbody>\n",
       "    <tr>\n",
       "      <th>0</th>\n",
       "      <td>10.3</td>\n",
       "      <td>69.81</td>\n",
       "    </tr>\n",
       "    <tr>\n",
       "      <th>1</th>\n",
       "      <td>11.4</td>\n",
       "      <td>82.75</td>\n",
       "    </tr>\n",
       "    <tr>\n",
       "      <th>2</th>\n",
       "      <td>11.5</td>\n",
       "      <td>81.75</td>\n",
       "    </tr>\n",
       "    <tr>\n",
       "      <th>3</th>\n",
       "      <td>12.5</td>\n",
       "      <td>80.38</td>\n",
       "    </tr>\n",
       "    <tr>\n",
       "      <th>4</th>\n",
       "      <td>13.1</td>\n",
       "      <td>85.89</td>\n",
       "    </tr>\n",
       "    <tr>\n",
       "      <th>5</th>\n",
       "      <td>13.4</td>\n",
       "      <td>75.32</td>\n",
       "    </tr>\n",
       "    <tr>\n",
       "      <th>6</th>\n",
       "      <td>13.6</td>\n",
       "      <td>69.81</td>\n",
       "    </tr>\n",
       "    <tr>\n",
       "      <th>7</th>\n",
       "      <td>15.0</td>\n",
       "      <td>78.54</td>\n",
       "    </tr>\n",
       "    <tr>\n",
       "      <th>8</th>\n",
       "      <td>15.2</td>\n",
       "      <td>81.29</td>\n",
       "    </tr>\n",
       "    <tr>\n",
       "      <th>9</th>\n",
       "      <td>15.3</td>\n",
       "      <td>99.20</td>\n",
       "    </tr>\n",
       "    <tr>\n",
       "      <th>10</th>\n",
       "      <td>15.6</td>\n",
       "      <td>86.35</td>\n",
       "    </tr>\n",
       "    <tr>\n",
       "      <th>11</th>\n",
       "      <td>16.4</td>\n",
       "      <td>110.23</td>\n",
       "    </tr>\n",
       "    <tr>\n",
       "      <th>12</th>\n",
       "      <td>16.5</td>\n",
       "      <td>106.55</td>\n",
       "    </tr>\n",
       "    <tr>\n",
       "      <th>13</th>\n",
       "      <td>17.0</td>\n",
       "      <td>85.50</td>\n",
       "    </tr>\n",
       "    <tr>\n",
       "      <th>14</th>\n",
       "      <td>17.1</td>\n",
       "      <td>90.02</td>\n",
       "    </tr>\n",
       "  </tbody>\n",
       "</table>\n",
       "</div>"
      ],
      "text/plain": [
       "    temp_diff   power\n",
       "0        10.3   69.81\n",
       "1        11.4   82.75\n",
       "2        11.5   81.75\n",
       "3        12.5   80.38\n",
       "4        13.1   85.89\n",
       "5        13.4   75.32\n",
       "6        13.6   69.81\n",
       "7        15.0   78.54\n",
       "8        15.2   81.29\n",
       "9        15.3   99.20\n",
       "10       15.6   86.35\n",
       "11       16.4  110.23\n",
       "12       16.5  106.55\n",
       "13       17.0   85.50\n",
       "14       17.1   90.02"
      ]
     },
     "execution_count": 5,
     "metadata": {},
     "output_type": "execute_result"
    }
   ],
   "source": [
    "gas_data = pd.read_table(\"temp_gas.csv\")\n",
    "gas_data"
   ]
  },
  {
   "cell_type": "markdown",
   "metadata": {},
   "source": [
    "The data appears to be clean - there are no missing values. We cannot be sure if there are any erroneous values (such as \"human errors\"). We can check for outliers by plotting histograms or boxplots."
   ]
  },
  {
   "cell_type": "code",
   "execution_count": 6,
   "metadata": {
    "collapsed": false
   },
   "outputs": [
    {
     "data": {
      "image/png": "[encoded data removed]",
      "text/plain": [
       "<matplotlib.figure.Figure at 0x159048e73c8>"
      ]
     },
     "metadata": {},
     "output_type": "display_data"
    }
   ],
   "source": [
    "f,(ax1,ax2) = plt.subplots(2,1, figsize = (5,6))\n",
    "ax1.hist(gas_data[\"temp_diff\"], bins = 5, normed = 1)\n",
    "ax1.set_xlabel(r\"$\\Delta T\\ [^{\\circ} \\mathrm{C}]$\")\n",
    "ax1.set_ylabel(r\"$\\mathrm{Frequency}$\")\n",
    "\n",
    "ax2.hist(gas_data[\"power\"], bins = 5, normed = 1)\n",
    "ax2.set_xlabel(r\"$C\\ [\\mathrm{kWh}]$\")\n",
    "ax2.set_ylabel(r\"$\\mathrm{Frequency}$\")\n",
    "\n",
    "f.tight_layout()\n",
    "plt.show()\n"
   ]
  },
  {
   "cell_type": "markdown",
   "metadata": {},
   "source": [
    "Indeed, there are no outliers.\n",
    "### Correlation\n",
    "To see if there is any correlation between the two variables, we'll plot $C = f(T)$"
   ]
  },
  {
   "cell_type": "code",
   "execution_count": 7,
   "metadata": {
    "collapsed": false
   },
   "outputs": [
    {
     "data": {
      "image/png": "[encoded data removed]",
      "text/plain": [
       "<matplotlib.figure.Figure at 0x159048533c8>"
      ]
     },
     "metadata": {},
     "output_type": "display_data"
    }
   ],
   "source": [
    "plt.scatter(gas_data[\"temp_diff\"], gas_data[\"power\"])\n",
    "plt.xlabel(r\"$\\Delta T\\ [^{\\circ}\\mathrm{C}]$\")\n",
    "plt.ylabel(r\"$C\\ [\\mathrm{kWh}]$\")\n",
    "plt.show()"
   ]
  },
  {
   "cell_type": "code",
   "execution_count": 8,
   "metadata": {
    "collapsed": false
   },
   "outputs": [
    {
     "data": {
      "image/png": "[encoded data removed]",
      "text/plain": [
       "<matplotlib.figure.Figure at 0x15905b97fd0>"
      ]
     },
     "metadata": {},
     "output_type": "display_data"
    }
   ],
   "source": [
    "plt.scatter(gas_data[\"temp_diff\"], gas_data[\"power\"])\n",
    "plt.xscale(\"log\")\n",
    "plt.yscale(\"log\")\n",
    "plt.xlabel(r\"$\\Delta T\\ [^{\\circ}\\mathrm{C}]$\")\n",
    "plt.ylabel(r\"$C\\ [\\mathrm{kWh}]$\")\n",
    "plt.show()"
   ]
  },
  {
   "cell_type": "markdown",
   "metadata": {},
   "source": [
    "There appears to be an upward trend. To see how strong it is, we will check the Pearson correlation coefficient."
   ]
  },
  {
   "cell_type": "code",
   "execution_count": 9,
   "metadata": {
    "collapsed": false
   },
   "outputs": [
    {
     "name": "stdout",
     "output_type": "stream",
     "text": [
      "Correlation: 0.626803947457\n"
     ]
    }
   ],
   "source": [
    "corr = np.corrcoef(gas_data[\"temp_diff\"], gas_data[\"power\"])[1][0]\n",
    "print(\"Correlation: \" + str(corr))"
   ]
  },
  {
   "cell_type": "markdown",
   "metadata": {},
   "source": [
    "This indicates a positive correlation, that is, the gas consumption tends to increase when the temperature difference increases.\n",
    "\n",
    "We can also add a trendline to the plot."
   ]
  },
  {
   "cell_type": "code",
   "execution_count": 10,
   "metadata": {
    "collapsed": false
   },
   "outputs": [
    {
     "name": "stdout",
     "output_type": "stream",
     "text": [
      "3.41274032684 36.8936562725 0.626803947457 0.0123969045057 1.17661931889\n"
     ]
    },
    {
     "data": {
      "image/png": "[encoded data removed]",
      "text/plain": [
       "<matplotlib.figure.Figure at 0x159061ee898>"
      ]
     },
     "metadata": {},
     "output_type": "display_data"
    },
    {
     "name": "stdout",
     "output_type": "stream",
     "text": [
      "Correlation: 0.626803947457\n",
      "Coefficient of determination: 0.392883188547\n"
     ]
    }
   ],
   "source": [
    "slope, intercept, r_value, p_value, std_err = stats.linregress(gas_data[\"temp_diff\"], gas_data[\"power\"])\n",
    "print(slope, intercept, r_value, p_value, std_err)\n",
    "plt.scatter(gas_data[\"temp_diff\"], gas_data[\"power\"], label=None)\n",
    "regr_label = r\"$y = \" + str(round(slope, 2)) + \"x + \" + str(round(intercept,2)) + \"$\"\n",
    "plt.plot(gas_data[\"temp_diff\"], gas_data[\"temp_diff\"] * slope + intercept, color = 'r', linestyle = '--', label = regr_label)\n",
    "plt.xlabel(r\"$\\Delta T\\ [^{\\circ}\\mathrm{C}]$\")\n",
    "plt.ylabel(r\"$C\\ [\\mathrm{kWh}]$\")\n",
    "plt.legend()\n",
    "plt.show()\n",
    "\n",
    "print(\"Correlation: \" + str(corr))\n",
    "print(\"Coefficient of determination: \" + str(r_value**2))\n"
   ]
  },
  {
   "cell_type": "markdown",
   "metadata": {},
   "source": [
    "### This indicates a positive correlation, that is, the gas consumption tends to increase when the temperature difference increases.\n",
    "http://blog.minitab.com/blog/adventures-in-statistics-2/regression-analysis-how-do-i-interpret-r-squared-and-assess-the-goodness-of-fit"
   ]
  },
  {
   "cell_type": "markdown",
   "metadata": {},
   "source": [
    "#### stats.linregress documentation (https://docs.scipy.org/doc/scipy/reference/generated/scipy.stats.linregress.html)\n",
    "\n",
    "Parameters:\t\n",
    "```\n",
    "x, y : array_like\n",
    "Two sets of measurements. Both arrays should have the same length. If only x is given (and y=None), then it must be a two-dimensional array where one dimension has length 2. The two sets of measurements are then found by splitting the array along the length-2 dimension.\n",
    "```\n",
    "\n",
    "Returns:\n",
    "```\n",
    "slope : float\n",
    "slope of the regression line\n",
    "\n",
    "intercept : float\n",
    "intercept of the regression line\n",
    "\n",
    "rvalue : float\n",
    "correlation coefficient\n",
    "\n",
    "pvalue : float\n",
    "two-sided p-value for a hypothesis test whose null hypothesis is that the slope is zero.\n",
    "\n",
    "stderr : float\n",
    "Standard error of the estimated gradient.\n",
    "```\n"
   ]
  },
  {
   "cell_type": "markdown",
   "metadata": {},
   "source": [
    "## Problem 2. Cloud Seeding"
   ]
  },
  {
   "cell_type": "code",
   "execution_count": 14,
   "metadata": {
    "collapsed": false
   },
   "outputs": [
    {
     "data": {
      "text/html": [
       "<div>\n",
       "<table border=\"1\" class=\"dataframe\">\n",
       "  <thead>\n",
       "    <tr style=\"text-align: right;\">\n",
       "      <th></th>\n",
       "      <th>unseeded</th>\n",
       "      <th>seeded</th>\n",
       "    </tr>\n",
       "  </thead>\n",
       "  <tbody>\n",
       "    <tr>\n",
       "      <th>0</th>\n",
       "      <td>1202.6</td>\n",
       "      <td>2745.6</td>\n",
       "    </tr>\n",
       "    <tr>\n",
       "      <th>1</th>\n",
       "      <td>830.1</td>\n",
       "      <td>1697.8</td>\n",
       "    </tr>\n",
       "    <tr>\n",
       "      <th>2</th>\n",
       "      <td>372.4</td>\n",
       "      <td>1656.0</td>\n",
       "    </tr>\n",
       "    <tr>\n",
       "      <th>3</th>\n",
       "      <td>345.5</td>\n",
       "      <td>978.0</td>\n",
       "    </tr>\n",
       "    <tr>\n",
       "      <th>4</th>\n",
       "      <td>321.2</td>\n",
       "      <td>703.4</td>\n",
       "    </tr>\n",
       "    <tr>\n",
       "      <th>5</th>\n",
       "      <td>244.3</td>\n",
       "      <td>489.1</td>\n",
       "    </tr>\n",
       "    <tr>\n",
       "      <th>6</th>\n",
       "      <td>163.0</td>\n",
       "      <td>430.0</td>\n",
       "    </tr>\n",
       "    <tr>\n",
       "      <th>7</th>\n",
       "      <td>147.8</td>\n",
       "      <td>334.1</td>\n",
       "    </tr>\n",
       "    <tr>\n",
       "      <th>8</th>\n",
       "      <td>95.0</td>\n",
       "      <td>302.8</td>\n",
       "    </tr>\n",
       "    <tr>\n",
       "      <th>9</th>\n",
       "      <td>87.0</td>\n",
       "      <td>274.7</td>\n",
       "    </tr>\n",
       "    <tr>\n",
       "      <th>10</th>\n",
       "      <td>81.2</td>\n",
       "      <td>274.7</td>\n",
       "    </tr>\n",
       "    <tr>\n",
       "      <th>11</th>\n",
       "      <td>68.5</td>\n",
       "      <td>255.0</td>\n",
       "    </tr>\n",
       "    <tr>\n",
       "      <th>12</th>\n",
       "      <td>47.3</td>\n",
       "      <td>242.5</td>\n",
       "    </tr>\n",
       "    <tr>\n",
       "      <th>13</th>\n",
       "      <td>41.1</td>\n",
       "      <td>200.7</td>\n",
       "    </tr>\n",
       "    <tr>\n",
       "      <th>14</th>\n",
       "      <td>36.6</td>\n",
       "      <td>198.6</td>\n",
       "    </tr>\n",
       "    <tr>\n",
       "      <th>15</th>\n",
       "      <td>29.0</td>\n",
       "      <td>129.6</td>\n",
       "    </tr>\n",
       "    <tr>\n",
       "      <th>16</th>\n",
       "      <td>28.6</td>\n",
       "      <td>119.0</td>\n",
       "    </tr>\n",
       "    <tr>\n",
       "      <th>17</th>\n",
       "      <td>26.3</td>\n",
       "      <td>118.3</td>\n",
       "    </tr>\n",
       "    <tr>\n",
       "      <th>18</th>\n",
       "      <td>26.1</td>\n",
       "      <td>115.3</td>\n",
       "    </tr>\n",
       "    <tr>\n",
       "      <th>19</th>\n",
       "      <td>24.4</td>\n",
       "      <td>92.4</td>\n",
       "    </tr>\n",
       "    <tr>\n",
       "      <th>20</th>\n",
       "      <td>21.7</td>\n",
       "      <td>40.6</td>\n",
       "    </tr>\n",
       "    <tr>\n",
       "      <th>21</th>\n",
       "      <td>17.3</td>\n",
       "      <td>32.7</td>\n",
       "    </tr>\n",
       "    <tr>\n",
       "      <th>22</th>\n",
       "      <td>11.5</td>\n",
       "      <td>31.4</td>\n",
       "    </tr>\n",
       "    <tr>\n",
       "      <th>23</th>\n",
       "      <td>4.9</td>\n",
       "      <td>17.5</td>\n",
       "    </tr>\n",
       "    <tr>\n",
       "      <th>24</th>\n",
       "      <td>4.9</td>\n",
       "      <td>7.7</td>\n",
       "    </tr>\n",
       "    <tr>\n",
       "      <th>25</th>\n",
       "      <td>1.0</td>\n",
       "      <td>4.1</td>\n",
       "    </tr>\n",
       "  </tbody>\n",
       "</table>\n",
       "</div>"
      ],
      "text/plain": [
       "    unseeded  seeded\n",
       "0     1202.6  2745.6\n",
       "1      830.1  1697.8\n",
       "2      372.4  1656.0\n",
       "3      345.5   978.0\n",
       "4      321.2   703.4\n",
       "5      244.3   489.1\n",
       "6      163.0   430.0\n",
       "7      147.8   334.1\n",
       "8       95.0   302.8\n",
       "9       87.0   274.7\n",
       "10      81.2   274.7\n",
       "11      68.5   255.0\n",
       "12      47.3   242.5\n",
       "13      41.1   200.7\n",
       "14      36.6   198.6\n",
       "15      29.0   129.6\n",
       "16      28.6   119.0\n",
       "17      26.3   118.3\n",
       "18      26.1   115.3\n",
       "19      24.4    92.4\n",
       "20      21.7    40.6\n",
       "21      17.3    32.7\n",
       "22      11.5    31.4\n",
       "23       4.9    17.5\n",
       "24       4.9     7.7\n",
       "25       1.0     4.1"
      ]
     },
     "execution_count": 14,
     "metadata": {},
     "output_type": "execute_result"
    }
   ],
   "source": [
    "cloud_data = pd.read_table(\"clouds.csv\")\n",
    "cloud_data.columns = [\"unseeded\", \"seeded\"]\n",
    "cloud_data"
   ]
  },
  {
   "cell_type": "markdown",
   "metadata": {},
   "source": [
    "Let's see how the values are distributed, again using histograms."
   ]
  },
  {
   "cell_type": "code",
   "execution_count": 17,
   "metadata": {
    "collapsed": false
   },
   "outputs": [
    {
     "data": {
      "image/png": "[encoded data removed]",
      "text/plain": [
       "<matplotlib.figure.Figure at 0x15907880390>"
      ]
     },
     "metadata": {},
     "output_type": "display_data"
    }
   ],
   "source": [
    "f,(ax1, ax2) = plt.subplots(2,1, figsize=(5,6))\n",
    "ax1.hist(cloud_data[\"unseeded\"])\n",
    "ax1.set_xlabel(r\"$R\\ [\\mathrm{mm}]$\")\n",
    "ax1.set_ylabel(\"$N$\")\n",
    "ax1.set_title(\"$\\mathrm{Unseeded\\ clouds}$\")\n",
    "\n",
    "ax2.hist(cloud_data[\"seeded\"])\n",
    "ax2.set_xlabel(r\"$R\\ [\\mathrm{mm}]$\")\n",
    "ax2.set_ylabel(\"$N$\")\n",
    "ax2.set_title(\"$\\mathrm{Seeded\\ clouds}$\")\n",
    "\n",
    "f.tight_layout()\n",
    "plt.show()"
   ]
  },
  {
   "cell_type": "markdown",
   "metadata": {},
   "source": [
    "The distributions may look the same but the units on the x axis are different. Looking at it, we can see that the seeded clouds have a much greater range.\n",
    "\n",
    "To see the two distributions better, we can plot them together."
   ]
  },
  {
   "cell_type": "markdown",
   "metadata": {},
   "source": [
    "f,ax = plt.subplots(figsize = (5,6))\n",
    "bin_width = 200\n",
    "unseeded_bins = np.arange(min(cloud_data[\"unseeded\"]), max(cloud_data[\"unseeded\"]) + bin_width, bin_width)\n",
    "seeded_bins = np.arange(min(cloud_data[\"seeded\"]), max(cloud_data[\"seeded\"]) + bin_width, bin_width)\n",
    "ax.hist(cloud_data[\"unseeded\"], bins = unseeded_bins, alpha = 0.5, label = \"$\\mathrm{unseeded}$\")\n",
    "ax.hist(cloud_data[\"seeded\"], bins = seeded_bins, alpha = 0.5, label = \"$\\mathrm{seeded}$\")\n",
    "ax.set_xlabel(\"$R\\ [\\mathrm{mm}]$\")\n",
    "ax.set_ylabel(\"$N$\")\n",
    "ax.legend()\n",
    "\n",
    "f.tight_layout()\n",
    "plt.show()"
   ]
  },
  {
   "cell_type": "markdown",
   "metadata": {},
   "source": [
    "Now we can see that the two distributions have very different ranges. We have to normalize these ranges in order to get meaningful results. The model we're going to run also requires normalized ranges.\n",
    "\n",
    "A data transformation we can try is logarithm. It has the property of \"shrinking\" vast spans of data."
   ]
  },
  {
   "cell_type": "code",
   "execution_count": 53,
   "metadata": {
    "collapsed": false
   },
   "outputs": [
    {
     "data": {
      "image/png": "[encoded data removed]",
      "text/plain": [
       "<matplotlib.figure.Figure at 0x15907411208>"
      ]
     },
     "metadata": {},
     "output_type": "display_data"
    }
   ],
   "source": [
    "cloud_data[\"log_unseeded\"] = np.log(cloud_data[\"unseeded\"])\n",
    "cloud_data[\"log_seeded\"] = np.log(cloud_data[\"seeded\"])\n",
    "\n",
    "f, ax = plt.subplots(figsize = (5,6))\n",
    "bin_width = 0.5\n",
    "log_unseeded_bins = np.arange(min(cloud_data[\"log_unseeded\"]), max(cloud_data[\"log_unseeded\"]) + bin_width, bin_width)\n",
    "log_seeded_bins = np.arange(min(cloud_data[\"log_seeded\"]), max(cloud_data[\"log_seeded\"]) + bin_width, bin_width)\n",
    "ax.hist(cloud_data[\"log_unseeded\"], bins = log_unseeded_bins, alpha = 0.5, label = \"$\\mathrm{unseeded}$\")\n",
    "ax.hist(cloud_data[\"log_seeded\"], bins = log_seeded_bins, alpha = 0.7, label = \"$\\mathrm{seeded}$\")\n",
    "ax.set_xlabel(r\"$\\ln(R)$\")\n",
    "ax.set_ylabel(r\"$N$\")\n",
    "ax.legend()\n",
    "\n",
    "f.tight_layout()\n",
    "plt.show()\n"
   ]
  },
  {
   "cell_type": "markdown",
   "metadata": {},
   "source": [
    "Now the two distributions are both comparable (have similar ranges) and similar to normal. We can see that the seeded clouds appear to have more rainfall. We can see this better in a boxplot."
   ]
  },
  {
   "cell_type": "code",
   "execution_count": 56,
   "metadata": {
    "collapsed": false
   },
   "outputs": [
    {
     "data": {
      "image/png": "[encoded data removed]",
      "text/plain": [
       "<matplotlib.figure.Figure at 0x15907854be0>"
      ]
     },
     "metadata": {},
     "output_type": "display_data"
    }
   ],
   "source": [
    "f, ax = plt.subplots(figsize = (5,6))\n",
    "ax.boxplot([cloud_data[\"log_unseeded\"], cloud_data[\"log_seeded\"]])\n",
    "ax.set_xticklabels([r\"$\\mathrm{unseeded}$\", r\"$\\mathrm{seeded}$\"])\n",
    "ax.set_ylabel(r\"$\\ln(\\mathrm{R})$\")\n",
    "\n",
    "plt.show()"
   ]
  },
  {
   "cell_type": "markdown",
   "metadata": {},
   "source": [
    "We can definitely see that the distributions are different and the seeded clouds appear to rain more.\n",
    "\n",
    "Significance\n",
    "A final question remains - is the result significant? That is, how likely is it that the difference we observe is random? We have to perform a **t-test**. Let's check for $H_0$ = \"Rainfall from seeded clouds is not larger\" and $\\alpha=0.05$."
   ]
  },
  {
   "cell_type": "code",
   "execution_count": 59,
   "metadata": {
    "collapsed": false
   },
   "outputs": [
    {
     "name": "stdout",
     "output_type": "stream",
     "text": [
      "p-value: 0.7041%\n"
     ]
    }
   ],
   "source": [
    "p_value = ttest_ind(cloud_data[\"log_unseeded\"], cloud_data[\"log_seeded\"]).pvalue\n",
    "# A detail here is that this p-value is for the \"two-tailed\" t-test but we only want to see\n",
    "# whether one value is larger than the other - a \"one-tailed\" test\n",
    "print(\"p-value: \" + str(round((p_value/2) * 100, 4)) + \"%\")"
   ]
  },
  {
   "cell_type": "markdown",
   "metadata": {},
   "source": [
    "The p-value is less than $\\alpha$, so we can reject $H_0$. We can even make a stronger claim - that $\\alpha = 0.01$ is also valid.\n",
    "\n",
    "So, in conclusion, we can say that seeded clouds produce significantly more rain.\n",
    "\n",
    "**Note:** These two values of $\\alpha$ are accepted as standards."
   ]
  }
 ],
 "metadata": {
  "anaconda-cloud": {},
  "kernelspec": {
   "display_name": "Python [conda root]",
   "language": "python",
   "name": "conda-root-py"
  },
  "language_info": {
   "codemirror_mode": {
    "name": "ipython",
    "version": 3
   },
   "file_extension": ".py",
   "mimetype": "text/x-python",
   "name": "python",
   "nbconvert_exporter": "python",
   "pygments_lexer": "ipython3",
   "version": "3.5.2"
  }
 },
 "nbformat": 4,
 "nbformat_minor": 1
}
