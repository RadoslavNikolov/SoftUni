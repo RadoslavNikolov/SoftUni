{
 "cells": [
  {
   "cell_type": "markdown",
   "metadata": {},
   "source": [
    "# Python Crash Cource Homework\n",
    "\n",
    "## Radoslav Nikolov (rado_niko)\n",
    "\n",
    "### Problem 1.  Markdown\n",
    "\n",
    "Looks like the standart way to store rtf(rich text formt). I've used several custom components. Some retain formatted text using XML. This one, like many other, uses JSON. Fortunately it looks familiar to me. I need some time to get used to Jupyter.\n",
    "\n",
    "Sample code:"
   ]
  },
  {
   "cell_type": "markdown",
   "metadata": {},
   "source": [
    "```python\n",
    "def getInput():\n",
    "\tr = float(input('Enter the radius:'))\n",
    "\treturn r\n",
    "\n",
    "import math\n",
    "r = getInput()\n",
    "area = 4 * math.pi * r ** 2\n",
    "volume = 4 / 3 * math.pi * r ** 3\n",
    "print(\"Area: \" + str(round(area,3)))\n",
    "print(\"Volume: \" + str(round(volume, 3)))\n",
    "```"
   ]
  },
  {
   "cell_type": "markdown",
   "metadata": {},
   "source": [
    "### Problem 2. Formulas and LaTeX\n",
    "\n",
    "Some samples\n"
   ]
  },
  {
   "cell_type": "markdown",
   "metadata": {},
   "source": [
    "Equation of a line: $y = ax + b$\n",
    "\n",
    "Roots of the quadratic equation $ax^2 + bx + c = 0$ $$x_{1,2} = \\frac{-b \\pm \\sqrt{b^2 - 4ac}}{2a}$$\n",
    "\n",
    "Taylor series expresion:\n",
    "$$\\begin{equation}\n",
    "\\left.f(x)\\right|_{x=a} = f(x) + f'(a)(x-a) + \\frac{f''(a)}{2!}(x-a)^2 + \\cdots + \\frac{f^{(n)}(a)}{n!}(x-a)^n + \\cdots  \\;\\;\n",
    "\\end{equation}$$\n",
    "\n",
    "Binomial theorem:\n",
    "$$\\begin{equation}\n",
    "(x + y)^n = \\binom{n}{0}x^ny^0 + \\binom{n}{1}x^1y^{n-1} + \\cdots + \\binom{n}{n}x^0y^n = \\displaystyle\\sum_{k=0}^{n} \\binom{n}{k}x^{n-k}y^k\n",
    "\\end{equation}$$\n",
    "\n",
    "An integral (this one is a lot of fun to solve :D):\n",
    "$$\\begin{equation}\n",
    "\\int_{-\\infty}^{+\\infty} \\mathrm{e}^{-x^2}\\,\\mathrm{d}x = \\sqrt{\\pi}\n",
    "\\end{equation}$$\n",
    "\n",
    "A short matrix:\n",
    "$$\\begin{equation}\n",
    "\\begin{pmatrix}\n",
    "2 & 1 & 3 \\\\\n",
    "2 & 6 & 8 \\\\\n",
    "6 & 8 & 18\\\\\n",
    "\\end{pmatrix}\n",
    "\\end{equation}$$\n",
    "\n",
    "A long matrix:\n",
    "$$\\begin{equation}\n",
    "A = \n",
    "\\begin{pmatrix}\n",
    "a_{11} & a_{12} & \\cdots & a_{1n} \\\\\n",
    "a_{21} & a_{22} & \\cdots & a_{2n} \\\\\n",
    "\\vdots  & \\vdots  & \\ddots & \\vdots  \\\\\n",
    "a_{m1} & a_{m2} & \\cdots & a_{mn} \n",
    "\\end{pmatrix} \n",
    "\\end{equation}$$"
   ]
  },
  {
   "cell_type": "markdown",
   "metadata": {},
   "source": [
    "### Problem 3. Plotting with Python\n",
    "\n",
    "For some reason I can't make it work here in Jupyter but it works fine in Visual Studio.\n",
    "\n",
    "Code:"
   ]
  },
  {
   "cell_type": "markdown",
   "metadata": {},
   "source": [
    "```python\n",
    "import matplotlib.pyplot as plt\n",
    "import numpy as np\n",
    "import math\n",
    "\n",
    "x = np.arange(-6 * math.pi,6*math.pi,0.001)\n",
    "\n",
    "y1 = 0.5 * np.sin(x)\n",
    "y2 = np.sin(x)\n",
    "y3 = 2 * np.sin(x)\n",
    "\n",
    "y11 = np.sin(0.5 * x)\n",
    "y12 = np.sin(x)\n",
    "y13 = np.sin(2 * x)\n",
    "\n",
    "plt.figure(1)\n",
    "plt.axhline(0, linestyle = \"--\", color = \"black\")\n",
    "plt.axvline(0, linestyle = \"--\", color = \"black\")\n",
    "plt.ylim(-2,2)\n",
    "plt.xlim(-2 * math.pi, 2 * math.pi)\n",
    "plt.plot(x,y1, label='$y = 0.5\\sin{(x)}$')\n",
    "plt.plot(x,y2, label='$y = \\sin{(x)}$')\n",
    "plt.plot(x,y3, label='$y = 2\\sin{(x)}$')\n",
    "\n",
    "plt.title(\"Exploring the parameter of $y=a\\sin{(bx)}$\")\n",
    "plt.legend(loc = 'best')\n",
    "\n",
    "\n",
    "plt.figure(2)\n",
    "plt.axhline(0, linestyle = \"--\", color = \"black\")\n",
    "plt.axvline(0, linestyle = \"--\", color = \"black\")\n",
    "plt.xlim(-2 * math.pi, 2 * math.pi)\n",
    "plt.ylim(-2,2)\n",
    "plt.plot(x,y11, label='$y = \\sin{(0.5x)}$')\n",
    "plt.plot(x,y12, label='$y = \\sin{(x)}$')\n",
    "plt.plot(x,y13, label='$y = \\sin{(2x)}$')\n",
    "\n",
    "plt.title(\"Exploring the parameter of $y=a\\sin{(bx)}$\")\n",
    "plt.legend(loc = 'best')\n",
    "\n",
    "plt.show()\n",
    "```"
   ]
  }
 ],
 "metadata": {
  "kernelspec": {
   "display_name": "Python 3",
   "language": "python",
   "name": "python3"
  },
  "language_info": {
   "codemirror_mode": {
    "name": "ipython",
    "version": 3
   },
   "file_extension": ".py",
   "mimetype": "text/x-python",
   "name": "python",
   "nbconvert_exporter": "python",
   "pygments_lexer": "ipython3",
   "version": "3.5.2"
  }
 },
 "nbformat": 4,
 "nbformat_minor": 2
}
