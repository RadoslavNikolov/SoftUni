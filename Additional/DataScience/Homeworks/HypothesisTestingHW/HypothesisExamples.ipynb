{
 "cells": [
  {
   "cell_type": "markdown",
   "metadata": {},
   "source": [
    "# Hypothesis examples"
   ]
  },
  {
   "cell_type": "code",
   "execution_count": 21,
   "metadata": {
    "collapsed": true
   },
   "outputs": [],
   "source": [
    "%matplotlib inline\n",
    "import pandas as pd\n",
    "import matplotlib.pyplot as plt\n",
    "import numpy as np\n",
    "import scipy.stats as st"
   ]
  },
  {
   "cell_type": "code",
   "execution_count": null,
   "metadata": {
    "collapsed": true
   },
   "outputs": [],
   "source": []
  },
  {
   "cell_type": "code",
   "execution_count": 6,
   "metadata": {
    "collapsed": false
   },
   "outputs": [
    {
     "data": {
      "image/png": "[encoded data removed]",
      "text/plain": [
       "<matplotlib.figure.Figure at 0x22b035d2d68>"
      ]
     },
     "metadata": {},
     "output_type": "display_data"
    },
    {
     "name": "stdout",
     "output_type": "stream",
     "text": [
      "67.96%\n"
     ]
    }
   ],
   "source": [
    "numbers = np.random.normal(0,1,10000)\n",
    "plt.hist(numbers, 20)\n",
    "plt.show()\n",
    "numbers_in_interval = numbers[(numbers >= -1) & (numbers <= 1)]\n",
    "print(str(len(numbers_in_interval) / len(numbers) * 100) + \"%\")"
   ]
  },
  {
   "cell_type": "code",
   "execution_count": 20,
   "metadata": {
    "collapsed": false
   },
   "outputs": [
    {
     "name": "stdout",
     "output_type": "stream",
     "text": [
      "68.216%\n",
      "94.892%\n",
      "95.426%\n",
      "99.735%\n"
     ]
    }
   ],
   "source": [
    "def get_interval(sigma):\n",
    "    numbers = np.random.normal(0,1,100000)\n",
    "    numbers_in_interval = [n for n in numbers if n >= -sigma and n <= sigma]\n",
    "    return str((len(numbers_in_interval) / len(numbers)) * 100) + \"%\"\n",
    "\n",
    "print(get_interval(1))\n",
    "print(get_interval(1.96))\n",
    "print(get_interval(2))\n",
    "print(get_interval(3))"
   ]
  },
  {
   "cell_type": "code",
   "execution_count": 25,
   "metadata": {
    "collapsed": false
   },
   "outputs": [
    {
     "name": "stdout",
     "output_type": "stream",
     "text": [
      "0.5\n",
      "0.975002104852\n"
     ]
    }
   ],
   "source": [
    "print(st.norm.cdf(0))\n",
    "print(st.norm.cdf(1.96))"
   ]
  },
  {
   "cell_type": "markdown",
   "metadata": {},
   "source": [
    "#### Confidence interval"
   ]
  },
  {
   "cell_type": "code",
   "execution_count": 33,
   "metadata": {
    "collapsed": false
   },
   "outputs": [
    {
     "name": "stdout",
     "output_type": "stream",
     "text": [
      "0.682689492137\n",
      "0.950004209704\n",
      "0.0918480526626\n",
      "0.5\n"
     ]
    }
   ],
   "source": [
    "def get_confidence_interval(z_score1, z_score2 = None):\n",
    "    if z_score2 is None:      \n",
    "        a1 = st.norm.cdf(-z_score1)\n",
    "        a2 = st.norm.cdf(z_score1)\n",
    "    else:\n",
    "        a1 = st.norm.cdf(z_score1)\n",
    "        a2 = st.norm.cdf(z_score2)\n",
    "        \n",
    "    return a2-a1\n",
    "\n",
    "\n",
    "print(get_confidence_interval(1))\n",
    "print(get_confidence_interval(1.96))\n",
    "print(get_confidence_interval(1,1.5))\n",
    "print(get_confidence_interval(0,40))"
   ]
  },
  {
   "cell_type": "markdown",
   "metadata": {},
   "source": [
    "Z-Score"
   ]
  },
  {
   "cell_type": "code",
   "execution_count": 36,
   "metadata": {
    "collapsed": false
   },
   "outputs": [
    {
     "name": "stdout",
     "output_type": "stream",
     "text": [
      "0.998576270616\n",
      "1.95996398454\n"
     ]
    }
   ],
   "source": [
    "def get_z_score(confidence_interval):\n",
    "    total_area = (confidence_interval + 1) / 2\n",
    "    return st.norm.ppf(total_area)\n",
    "\n",
    "print(get_z_score(0.682))\n",
    "print(get_z_score(0.95))"
   ]
  }
 ],
 "metadata": {
  "anaconda-cloud": {},
  "kernelspec": {
   "display_name": "Python [conda root]",
   "language": "python",
   "name": "conda-root-py"
  },
  "language_info": {
   "codemirror_mode": {
    "name": "ipython",
    "version": 3
   },
   "file_extension": ".py",
   "mimetype": "text/x-python",
   "name": "python",
   "nbconvert_exporter": "python",
   "pygments_lexer": "ipython3",
   "version": "3.5.2"
  }
 },
 "nbformat": 4,
 "nbformat_minor": 1
}
