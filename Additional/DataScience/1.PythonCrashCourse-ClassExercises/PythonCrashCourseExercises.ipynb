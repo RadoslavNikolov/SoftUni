{
 "cells": [
  {
   "cell_type": "code",
   "execution_count": 1,
   "metadata": {
    "collapsed": false
   },
   "outputs": [],
   "source": [
    "%matplotlib inline\n",
    "import math\n",
    "import matplotlib.pyplot as plt\n",
    "import numpy as np"
   ]
  },
  {
   "cell_type": "code",
   "execution_count": 3,
   "metadata": {
    "collapsed": false
   },
   "outputs": [
    {
     "name": "stdout",
     "output_type": "stream",
     "text": [
      "Enter radius: 5\n",
      "Area: 314.1592653589793\n",
      "Volume: 523.5987755982989\n",
      "Area: 314.159\n",
      "Valume: 523.599\n"
     ]
    }
   ],
   "source": [
    "radius = float(input(\"Enter radius: \"))\n",
    "area = 4 * math.pi * radius**2\n",
    "volume = (4.0/3.0) * math.pi * radius**3\n",
    "print(\"Area: \" + str(area))\n",
    "print(\"Volume: \" + str(volume))\n",
    "print(\"Area: \" + str(round(area,3)))\n",
    "print(\"Valume: \" + str(round(volume,3)))\n"
   ]
  },
  {
   "cell_type": "code",
   "execution_count": null,
   "metadata": {
    "collapsed": false
   },
   "outputs": [],
   "source": [
    "num = int(input(\"Enter number: \"))\n",
    "if num > 0:\n",
    "    print(\"> 0\")\n",
    "elif num == 0:\n",
    "    print(\"= 0\")\n",
    "else:\n",
    "    print(\"< 0\")"
   ]
  },
  {
   "cell_type": "code",
   "execution_count": null,
   "metadata": {
    "collapsed": false
   },
   "outputs": [],
   "source": [
    "fruits = [\"apple\", \"banana\", \"orange\"]\n",
    "for f in fruits:\n",
    "    print(f)"
   ]
  },
  {
   "cell_type": "code",
   "execution_count": null,
   "metadata": {
    "collapsed": false
   },
   "outputs": [],
   "source": [
    "for i in range(10):\n",
    "    print(i)"
   ]
  },
  {
   "cell_type": "code",
   "execution_count": null,
   "metadata": {
    "collapsed": false
   },
   "outputs": [],
   "source": [
    "print(list(range(10)))\n",
    "print(list(range(2,5)))\n",
    "print(list(range(2,-5)))\n",
    "print(list(range(2,10,2)))"
   ]
  },
  {
   "cell_type": "code",
   "execution_count": null,
   "metadata": {
    "collapsed": false
   },
   "outputs": [],
   "source": [
    "def square(num):\n",
    "    return num**2\n",
    "\n",
    "square(5)"
   ]
  },
  {
   "cell_type": "code",
   "execution_count": null,
   "metadata": {
    "collapsed": false
   },
   "outputs": [],
   "source": [
    "def histogram(nums):\n",
    "    for n in nums:\n",
    "        line = '*' * n\n",
    "        print(line)\n",
    "        \n",
    "histogram(range(5))\n",
    "histogram([8,9,6])"
   ]
  },
  {
   "cell_type": "code",
   "execution_count": null,
   "metadata": {
    "collapsed": false
   },
   "outputs": [],
   "source": [
    "def fact(n):\n",
    "    result = 1\n",
    "    for i in range(2, n+1):\n",
    "        result *= i\n",
    "    return result\n",
    "\n",
    "def factRecursive(n):\n",
    "    if n == 0:\n",
    "        return 1\n",
    "    return n * factRecursive(n-1)\n",
    "\n",
    "print(fact(10))\n",
    "print(factRecursive(10))"
   ]
  },
  {
   "cell_type": "code",
   "execution_count": null,
   "metadata": {
    "collapsed": false
   },
   "outputs": [],
   "source": [
    "def get_nums():\n",
    "    for i in range(1,10):\n",
    "        yield i\n",
    "        \n",
    "for i in get_nums():\n",
    "    print(i)"
   ]
  },
  {
   "cell_type": "code",
   "execution_count": null,
   "metadata": {
    "collapsed": false
   },
   "outputs": [],
   "source": [
    "def powers_of_two():\n",
    "    power = 0\n",
    "    while True:\n",
    "        yield 2**power\n",
    "        power += 1\n",
    "        \n",
    "for p in powers_of_two():\n",
    "    if p >= 100000:\n",
    "        break\n",
    "    print(p)\n",
    "    "
   ]
  },
  {
   "cell_type": "code",
   "execution_count": null,
   "metadata": {
    "collapsed": false
   },
   "outputs": [],
   "source": [
    "fuits = [\"apple\", \"banana\", \"orange\"]\n",
    "fruits[0]\n",
    "print(fruits[0])"
   ]
  },
  {
   "cell_type": "code",
   "execution_count": null,
   "metadata": {
    "collapsed": false
   },
   "outputs": [],
   "source": [
    "matrix = [\n",
    "    [1,2,3],\n",
    "    [4,5,6],\n",
    "    [7,8,9]\n",
    "]\n",
    "\n",
    "matrix[0][2]\n",
    "matrix[2]"
   ]
  },
  {
   "cell_type": "code",
   "execution_count": null,
   "metadata": {
    "collapsed": false
   },
   "outputs": [],
   "source": [
    "fuits = [\"apple\", \"banana\", \"orange\"]\n",
    "fruits.append(\"kiwi\")\n",
    "fruits.extend([\"ttt\", \"ddd\"])\n",
    "fruits"
   ]
  },
  {
   "cell_type": "code",
   "execution_count": null,
   "metadata": {
    "collapsed": false
   },
   "outputs": [],
   "source": [
    "# Map\n",
    "def square(x):\n",
    "    return x**2\n",
    "\n",
    "squares = map(square, range(10))\n",
    "print(list(squares))\n",
    "\n",
    "names = ['Anne', 'Amy', 'Bob', 'David', 'Carrie', 'Barbara', 'Zach']\n",
    "lengths = map(len, names)\n",
    "print(list(lengths))"
   ]
  },
  {
   "cell_type": "code",
   "execution_count": null,
   "metadata": {
    "collapsed": false
   },
   "outputs": [],
   "source": [
    "# Lambda\n",
    "print((lambda x:x**2)(5))\n",
    "\n",
    "print((lambda x,y:x*y)(3,4))\n",
    "\n",
    "print((lambda x:x.startswith('B'))('Bob'))\n",
    "print((lambda x:x.startswith('B'))('Robert'))\n",
    "\n",
    "# Function\n",
    "increment = (lambda input: input +1)\n",
    "print(increment(3))\n",
    "\n",
    "# Map and lambda together\n",
    "squares = map(lambda x:x**2, range(10))\n",
    "print(list(squares))\n",
    "\n",
    "# Filter\n",
    "squares = map(lambda x: x**2, range(10))\n",
    "special_squares = filter(lambda x: x > 5 and x < 50, squares)\n",
    "print(list(special_squares))\n",
    "\n",
    "names = ['Anne', 'Amy', 'Bob', 'David', 'Carrie', 'Barbara', 'Zach']\n",
    "b_names = filter(lambda s: s.startswith('B'), names)\n",
    "print(list(b_names))"
   ]
  },
  {
   "cell_type": "code",
   "execution_count": null,
   "metadata": {
    "collapsed": false
   },
   "outputs": [],
   "source": [
    "squares = []\n",
    "for i in range(10):\n",
    "    squares.append(i**2)\n",
    "    \n",
    "print(squares)\n",
    "\n",
    "squares = [i ** 2 for i in range(20)]\n",
    "print(squares)\n",
    "\n",
    "nums = [x for x in range(7) if x >= 3 and x % 2 == 1]\n",
    "print(nums)"
   ]
  },
  {
   "cell_type": "code",
   "execution_count": null,
   "metadata": {
    "collapsed": false
   },
   "outputs": [],
   "source": [
    "names = ['Anne', 'Amy', 'Bob', 'David', 'Carrie', 'Barbara', 'Zach']\n",
    "print([len(name) for name in names])\n",
    "# Just last letter for every name\n",
    "print([name[-1] for name in names])\n",
    "# Just first letter for every name\n",
    "print([name[0] for name in names])\n",
    "# Reverse names\n",
    "print([name[::-1] for name in names])\n",
    "print([[name, name[0], len(name)] for name in names])\n",
    "\n",
    "# Filter\n",
    "b_names = [name for name in names if name.startswith('B')]\n",
    "print(b_names)\n"
   ]
  },
  {
   "cell_type": "code",
   "execution_count": null,
   "metadata": {
    "collapsed": false
   },
   "outputs": [],
   "source": [
    "coords = [(x,y) for x in range(5) for y in range(3)]\n",
    "print(coords)\n",
    "\n",
    "special_squares = [x**2 for x in range(10) if x**2>5 and x**2 <50]\n",
    "print(special_squares)\n",
    "\n",
    "# OR\n",
    "\n",
    "squares = [x**2 for x in range(10)]\n",
    "special_squares = [s for s in squares if s > 5 and s < 50]\n",
    "print(special_squares)\n",
    "\n",
    "# OR\n",
    "\n",
    "special_squares = [s for s in [x**2 for x in range(10)] if s > 5 and s < 50]\n",
    "print(special_squares)"
   ]
  },
  {
   "cell_type": "code",
   "execution_count": null,
   "metadata": {
    "collapsed": false
   },
   "outputs": [],
   "source": [
    "possible_choices = [\n",
    "    [drink,food, dessert] \n",
    "    for drink in ['water', 'tea', 'juice'] \n",
    "    for food in ['ham', 'eggs', 'spam']\n",
    "    for dessert in ['apple', 'banana', 'orange', 'pear']]\n",
    "print(possible_choices)"
   ]
  },
  {
   "cell_type": "code",
   "execution_count": null,
   "metadata": {
    "collapsed": false
   },
   "outputs": [],
   "source": [
    "words = [\"Lorem\", \"ipsum\", \"dolor\", \"sit\", \"amet\"]\n",
    "letters = [l for w in words for l in w]\n",
    "print(letters)"
   ]
  },
  {
   "cell_type": "code",
   "execution_count": null,
   "metadata": {
    "collapsed": false
   },
   "outputs": [],
   "source": [
    "words = [\"Lorem\", \"ipsum\", \"dolor\", \"sit\", \"amet\"]\n",
    "new_things = [\"something with \" + i for i in words if i.startswith('L') or len(i) <= 4]\n",
    "print(new_things)"
   ]
  },
  {
   "cell_type": "code",
   "execution_count": null,
   "metadata": {
    "collapsed": false
   },
   "outputs": [],
   "source": [
    "matrix = [\n",
    "    [1,2,3],\n",
    "    [4,5,6],\n",
    "    [7,8,9]\n",
    "]\n",
    "\n",
    "flattened = []\n",
    "for row in matrix:\n",
    "    for n in row:\n",
    "        flattened.append(n)\n",
    "        \n",
    "print(flattened)\n",
    "\n",
    "flattened1 = [n for row in matrix for n in row]\n",
    "print(flattened1)\n"
   ]
  },
  {
   "cell_type": "code",
   "execution_count": null,
   "metadata": {
    "collapsed": false
   },
   "outputs": [],
   "source": [
    "words = [\"Lorem\", \"ipsum\", \"dolor\", \"sit\", \"amet\"]\n",
    "first_letters = set()\n",
    "for w in words:\n",
    "    first_letters.add(w[0])\n",
    "    \n",
    "print(first_letters)"
   ]
  },
  {
   "cell_type": "code",
   "execution_count": null,
   "metadata": {
    "collapsed": false
   },
   "outputs": [],
   "source": [
    "phones = {\"John\": \"+359…\", \"Jane\": \"+1…\"}\n",
    "print(phones[\"John\"])\n",
    "phones[\"Maria\"] = \"secret phone\"\n",
    "print(phones[\"Maria\"])\n",
    "print(phones.get(\"M\"))\n",
    "print(phones.get(\"Maria\"))\n",
    "print(phones.get(\"M\", \"<nothing>\"))\n",
    "print(phones.keys())\n",
    "print(phones.values())\n",
    "print(phones.items())\n",
    "\n",
    "flattened = [person + ' -> ' + number for person,number in phones.items()]\n",
    "print(flattened)"
   ]
  },
  {
   "cell_type": "code",
   "execution_count": null,
   "metadata": {
    "collapsed": false
   },
   "outputs": [],
   "source": [
    "nums_set = {1, 2, (3, 4, 5), 6}\n",
    "print(nums_set)\n",
    "\n",
    "nums_set = {1,1,1,1,1,1,1,1,1,2}\n",
    "print(nums_set)\n",
    "\n",
    "print(2 in nums_set)\n",
    "print(5 in nums_set)\n",
    "\n",
    "nums_set.add(10)\n",
    "print(nums_set)\n",
    "nums_set.remove(10)\n",
    "print(nums_set)\n",
    "\n",
    "\n",
    "\n"
   ]
  },
  {
   "cell_type": "code",
   "execution_count": null,
   "metadata": {
    "collapsed": false
   },
   "outputs": [],
   "source": [
    "x = np.arange(-2 * math.pi, 2 * math.pi, 0.001)\n",
    "\n",
    "f,(ax1,ax2) = plt.subplots(2,1, sharex=True)\n",
    "y1 = [math.sin(num) for num in x]\n",
    "ax1.axhline(0,linestyle=\"--\", color=\"black\")\n",
    "ax1.plot(x,y1)\n",
    "y2 = [math.cos(num) for num in x]\n",
    "ax2.axhline(0,linestyle=\"--\", color=\"black\")\n",
    "ax2.plot(x,y2)"
   ]
  },
  {
   "cell_type": "code",
   "execution_count": null,
   "metadata": {
    "collapsed": false
   },
   "outputs": [],
   "source": [
    "plt.subplot(211)\n",
    "plt.plot([1,2,3])\n",
    "# now create a subplot which represents the top plot of a grid\n",
    "# with 2 rows and 1 column. Since this subplot will overlap the\n",
    "# first, the plot (and its axes) previously created, will be removed\n",
    "\n",
    "\n",
    "plt.subplot(212) # creates 2nd subplot with yellow background\n",
    "plt.plot(range(12))"
   ]
  },
  {
   "cell_type": "code",
   "execution_count": null,
   "metadata": {
    "collapsed": false
   },
   "outputs": [],
   "source": [
    "\n",
    "# plot a line, implicitly creating a subplot(111)\n",
    "plt.plot([1,2,3])\n",
    "# now create a subplot which represents the top plot of a grid\n",
    "# with 2 rows and 1 column. Since this subplot will overlap the\n",
    "# first, the plot (and its axes) previously created, will be removed\n",
    "plt.subplot(211)\n",
    "plt.plot(range(12))\n",
    "plt.subplot(212) # creates 2nd subplot with yellow background\n",
    "plt.plot(range(20))"
   ]
  },
  {
   "cell_type": "code",
   "execution_count": null,
   "metadata": {
    "collapsed": false
   },
   "outputs": [],
   "source": [
    "x1 = np.linspace(0.0, 5.0)\n",
    "x2 = np.linspace(0.0, 2.0)\n",
    "\n",
    "y1 = np.cos(2 * np.pi * x1) * np.exp(-x1)\n",
    "y2 = np.cos(2 * np.pi * x2)\n",
    "\n",
    "plt.subplot(2, 1, 1)\n",
    "plt.plot(x1, y1, 'o-')\n",
    "plt.title('A tale of 2 subplots')\n",
    "plt.ylabel('Damped oscillation')\n",
    "\n",
    "plt.subplot(2, 1, 2)\n",
    "plt.plot(x2, y2, '.-')\n",
    "plt.xlabel('time (s)')\n",
    "plt.ylabel('Undamped')\n",
    "\n",
    "plt.show()\n"
   ]
  },
  {
   "cell_type": "code",
   "execution_count": null,
   "metadata": {
    "collapsed": false
   },
   "outputs": [],
   "source": [
    "x = np.linspace(0,2*np.pi, 400)\n",
    "y = np.sin(x**2)\n",
    "\n",
    "fig, ax = plt.subplots()\n",
    "ax.plot(x,y)\n",
    "ax.set_title(\"Simple plot\")\n",
    "plt.show()\n",
    "\n",
    "f,(ax1,ax2) = plt.subplots(2,1, sharex=True)\n",
    "ax1.plot(x,y)\n",
    "ax1.set_title(\"Sharing Y axis\")\n",
    "ax2.scatter(x,y)\n",
    "plt.show()\n",
    "\n",
    "fig, axes = plt.subplots(2,2, subplot_kw=dict(polar=True))\n",
    "axes[0,0].plot(x,y)\n",
    "axes[1,1].scatter(x,y)\n",
    "plt.show()"
   ]
  },
  {
   "cell_type": "code",
   "execution_count": null,
   "metadata": {
    "collapsed": false
   },
   "outputs": [],
   "source": [
    "x = [1,2,3,8,9,20]\n",
    "# y = [x**2] # error\n",
    "y = [x**2 for x in x]\n",
    "print(y)\n",
    "x1 = np.array(x)\n",
    "y1 = x1**2\n",
    "print(y1)\n",
    "print(np.array([1, 2, 3]))\n",
    "print(np.array([1, \"2\", 3]))"
   ]
  }
 ],
 "metadata": {
  "anaconda-cloud": {},
  "kernelspec": {
   "display_name": "Python [conda root]",
   "language": "python",
   "name": "conda-root-py"
  }
 },
 "nbformat": 4,
 "nbformat_minor": 1
}
